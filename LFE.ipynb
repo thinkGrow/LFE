{
  "nbformat": 4,
  "nbformat_minor": 0,
  "metadata": {
    "colab": {
      "name": "LFE.ipynb",
      "provenance": []
    },
    "kernelspec": {
      "name": "python3",
      "display_name": "Python 3"
    },
    "language_info": {
      "name": "python"
    }
  },
  "cells": [
    {
      "cell_type": "code",
      "execution_count": null,
      "metadata": {
        "id": "pYa0GKrWEk1c"
      },
      "outputs": [],
      "source": [
        "import pandas as pd\n",
        "from matplotlib import pyplot as plt\n",
        "from sklearn.model_selection import train_test_split\n",
        "import seaborn as sns\n",
        "\n",
        "from sklearn.preprocessing import StandardScaler"
      ]
    },
    {
      "cell_type": "code",
      "source": [
        "from google.colab import drive\n",
        "drive.mount('/content/drive')"
      ],
      "metadata": {
        "colab": {
          "base_uri": "https://localhost:8080/"
        },
        "id": "IAbpaOSaEztf",
        "outputId": "03f11994-5226-4581-878a-f51aafa11f68"
      },
      "execution_count": null,
      "outputs": [
        {
          "output_type": "stream",
          "name": "stdout",
          "text": [
            "Mounted at /content/drive\n"
          ]
        }
      ]
    },
    {
      "cell_type": "code",
      "source": [
        "df = pd.read_csv ('/content/drive/MyDrive/LFE/Grp 10 [LFE Sec 5].csv')"
      ],
      "metadata": {
        "id": "_kgKVEm0E0Qc"
      },
      "execution_count": null,
      "outputs": []
    },
    {
      "cell_type": "code",
      "source": [
        "df.iloc[0]"
      ],
      "metadata": {
        "colab": {
          "base_uri": "https://localhost:8080/"
        },
        "id": "NYEZOuXOHXGL",
        "outputId": "bf97a1ba-9597-454b-b9c3-a50bbff94fe4"
      },
      "execution_count": null,
      "outputs": [
        {
          "output_type": "execute_result",
          "data": {
            "text/plain": [
              "Timestamp                                                                                                                                                 2022/03/19 5:00:41 PM GMT+6\n",
              "Username                                                                                                                                                           1721088@iub.edu.bd\n",
              "1. Gender:                                                                                                                                                                       Male\n",
              "2. Your place of residence?                                                                                                                                                     Urban\n",
              "3. How many members do you have in your family?                                                                                                                           Less than 4\n",
              "4. What is the main source of income in your family?                                                                                                                      Private job\n",
              "3. What are you doing major in?                                                                                                                                        IT/Engineering\n",
              "4. Who has influenced you to chose the subject that you are currently studying?                                                                                                Sister\n",
              "5. What particular topic(s) attract you to studying nowadays? (mention one or more topics in short)                                                                   Web Development\n",
              "6. Do you think, environmental education is important in Bangladesh?                                                                                                              Yes\n",
              "7. If your answer for question No. 6 is YES, please tell us WHY?                                                                                    To make the earth a better place.\n",
              "8. Did you study Science during your SSC or O Level?                                                                                                                              Yes\n",
              "9. Did you study Science during your HSC or A Level?                                                                                                                              Yes\n",
              "10. Did you do any environmental related course (where common environmental problems were discussed) at the University?                                                            No\n",
              "11. How important is it to include environmental studies/subjects in different levels of education (from primary to university) in Bangladesh?                              Important\n",
              "12. How often environmental issues are discussed at your university?                                                                              Sometimes (several times in a year)\n",
              "13.\\tEarth can support a limited number of humans and we are getting close to that (NEP 1)                                                                                    Neutral\n",
              "14. Humans have the right to modify the natural environment to fulfill their needs (NEP 2)                                                                                      Agree\n",
              "15. When humans interfere much in nature it often produces disastrous consequences (NEP 3)                                                                                    Neutral\n",
              "16. Human cleverness and skill will make sure that we do NOT ruin the earth. (NEP 4)                                                                                          Neutral\n",
              "17. Humans are seriously abusing the environment. (NEP 5)                                                                                                                       Agree\n",
              "18. The Earth has a lot of of natural resources if we just learn how to develop them (NEP 6)                                                                                    Agree\n",
              "19. Plants and animals have equal right to exist as humans do (NEP 7)                                                                                                           Agree\n",
              "20. The balance of nature is strong enough to cope with the impacts of modern industrial nations (NEP 8)                                                                     Disagree\n",
              "21. Though humans have special skills, they are also part of the law of nature (NEP 9)                                                                                          Agree\n",
              "22. The current environmental crises are not serious issues and sometimes over rated/ emphasized  (NEP 10)                                                          Strongly Disagree\n",
              "23. The Earth is like a spaceship with very limited room and resources (NEP 11)                                                                                                 Agree\n",
              "24. Humans were meant/made to rule over the rest of nature (NEP 12)                                                                                                             Agree\n",
              "25. The balance of nature is very sensitive to human actions (NEP 13)                                                                                                           Agree\n",
              "26. Humans will eventually learn enough about how nature works  and will be able to control nature (NEP 14)                                                                     Agree\n",
              "27. If things continue on their present course, we will soon experience a major environmental crisis/catastrophe (NEP 15)                                              Strongly agree\n",
              "Name: 0, dtype: object"
            ]
          },
          "metadata": {},
          "execution_count": 4
        }
      ]
    },
    {
      "cell_type": "markdown",
      "source": [
        "#Research-1\n",
        "\n",
        "*   List item\n",
        "*   List item\n",
        "\n"
      ],
      "metadata": {
        "id": "pQ5RmWTdXMXw"
      }
    },
    {
      "cell_type": "markdown",
      "source": [
        "10. Did you do any environmental related course (where common environmental problems were discussed) at the University?\n",
        "\n",
        "27. If things continue on their present course, we will soon experience a major environmental crisis/catastrophe (NEP 15)"
      ],
      "metadata": {
        "id": "zueDUF0SKEYX"
      }
    },
    {
      "cell_type": "code",
      "source": [
        "discuss_env = df.iloc[:,13]\n",
        "print(discuss_env)"
      ],
      "metadata": {
        "colab": {
          "base_uri": "https://localhost:8080/"
        },
        "id": "sF1HsMP_JIeZ",
        "outputId": "2f208d0b-bf7a-4251-e223-773c4db2fe40"
      },
      "execution_count": null,
      "outputs": [
        {
          "output_type": "stream",
          "name": "stdout",
          "text": [
            "0      No\n",
            "1      No\n",
            "2      No\n",
            "3     Yes\n",
            "4      No\n",
            "5     Yes\n",
            "6     Yes\n",
            "7      No\n",
            "8     Yes\n",
            "9     Yes\n",
            "10     No\n",
            "11     No\n",
            "12    Yes\n",
            "13    Yes\n",
            "14    Yes\n",
            "15    Yes\n",
            "16     No\n",
            "17     No\n",
            "18    Yes\n",
            "19    Yes\n",
            "20    Yes\n",
            "21    Yes\n",
            "22    Yes\n",
            "23     No\n",
            "24    Yes\n",
            "Name: 10. Did you do any environmental related course (where common environmental problems were discussed) at the University?, dtype: object\n"
          ]
        }
      ]
    },
    {
      "cell_type": "code",
      "source": [
        "discuss_env = discuss_env.replace(to_replace='Yes',value=1)\n",
        "discuss_env = discuss_env.replace(to_replace='No',value=0)\n",
        "discuss_env"
      ],
      "metadata": {
        "colab": {
          "base_uri": "https://localhost:8080/"
        },
        "id": "SbCV-aBCMrdl",
        "outputId": "07e706b9-e8f2-44b7-b9f9-e70932fa242d"
      },
      "execution_count": null,
      "outputs": [
        {
          "output_type": "execute_result",
          "data": {
            "text/plain": [
              "0     0\n",
              "1     0\n",
              "2     0\n",
              "3     1\n",
              "4     0\n",
              "5     1\n",
              "6     1\n",
              "7     0\n",
              "8     1\n",
              "9     1\n",
              "10    0\n",
              "11    0\n",
              "12    1\n",
              "13    1\n",
              "14    1\n",
              "15    1\n",
              "16    0\n",
              "17    0\n",
              "18    1\n",
              "19    1\n",
              "20    1\n",
              "21    1\n",
              "22    1\n",
              "23    0\n",
              "24    1\n",
              "Name: 10. Did you do any environmental related course (where common environmental problems were discussed) at the University?, dtype: int64"
            ]
          },
          "metadata": {},
          "execution_count": 6
        }
      ]
    },
    {
      "cell_type": "code",
      "source": [
        "b = df.iloc[:,30]"
      ],
      "metadata": {
        "id": "ehLXYmusP-Ln"
      },
      "execution_count": null,
      "outputs": []
    },
    {
      "cell_type": "code",
      "source": [
        "b = b.replace(to_replace='Agree',value=1)\n",
        "b = b.replace(to_replace='Neutral',value=0)\n",
        "b = b.replace(to_replace='Strongly agree',value=2)\n",
        "b"
      ],
      "metadata": {
        "colab": {
          "base_uri": "https://localhost:8080/"
        },
        "id": "-R4bvnlFTore",
        "outputId": "b01b3e3d-9e2c-4fbb-8c03-079e925d886f"
      },
      "execution_count": null,
      "outputs": [
        {
          "output_type": "execute_result",
          "data": {
            "text/plain": [
              "0     2\n",
              "1     0\n",
              "2     2\n",
              "3     2\n",
              "4     2\n",
              "5     0\n",
              "6     2\n",
              "7     2\n",
              "8     1\n",
              "9     1\n",
              "10    2\n",
              "11    1\n",
              "12    2\n",
              "13    2\n",
              "14    2\n",
              "15    1\n",
              "16    2\n",
              "17    0\n",
              "18    0\n",
              "19    1\n",
              "20    2\n",
              "21    1\n",
              "22    2\n",
              "23    1\n",
              "24    1\n",
              "Name: 27. If things continue on their present course, we will soon experience a major environmental crisis/catastrophe (NEP 15), dtype: int64"
            ]
          },
          "metadata": {},
          "execution_count": 8
        }
      ]
    },
    {
      "cell_type": "code",
      "source": [
        "c = pd.concat([b, discuss_env], axis=1)\n",
        "\n",
        "print(c.shape)"
      ],
      "metadata": {
        "colab": {
          "base_uri": "https://localhost:8080/"
        },
        "id": "TEFX_MNyTNiU",
        "outputId": "c6af6d1c-d3d9-45b5-d950-f1e9a65afc85"
      },
      "execution_count": null,
      "outputs": [
        {
          "output_type": "stream",
          "name": "stdout",
          "text": [
            "(25, 2)\n"
          ]
        }
      ]
    },
    {
      "cell_type": "code",
      "source": [
        "correlation = df.corrwith(c, axis=0)\n",
        "print(correlation)"
      ],
      "metadata": {
        "colab": {
          "base_uri": "https://localhost:8080/"
        },
        "id": "wQHG8XfsKC68",
        "outputId": "3c268fb1-8dd6-4fd1-b8f4-640e57fd106b"
      },
      "execution_count": null,
      "outputs": [
        {
          "output_type": "stream",
          "name": "stdout",
          "text": [
            "27. If things continue on their present course, we will soon experience a major environmental crisis/catastrophe (NEP 15)   NaN\n",
            "10. Did you do any environmental related course (where common environmental problems were discussed) at the University?     NaN\n",
            "dtype: float64\n"
          ]
        }
      ]
    },
    {
      "cell_type": "code",
      "source": [
        "c.corr()"
      ],
      "metadata": {
        "colab": {
          "base_uri": "https://localhost:8080/",
          "height": 208
        },
        "id": "ndpYjdG1WMDb",
        "outputId": "48ab6f6b-ecb6-4e32-c66d-70c8ad964200"
      },
      "execution_count": null,
      "outputs": [
        {
          "output_type": "execute_result",
          "data": {
            "text/plain": [
              "                                                    27. If things continue on their present course, we will soon experience a major environmental crisis/catastrophe (NEP 15)  \\\n",
              "27. If things continue on their present course,...                                           1.000000                                                                           \n",
              "10. Did you do any environmental related course...                                          -0.044023                                                                           \n",
              "\n",
              "                                                    10. Did you do any environmental related course (where common environmental problems were discussed) at the University?  \n",
              "27. If things continue on their present course,...                                          -0.044023                                                                        \n",
              "10. Did you do any environmental related course...                                           1.000000                                                                        "
            ],
            "text/html": [
              "\n",
              "  <div id=\"df-26adc272-ab65-4b81-bb7e-ddf6faa948a6\">\n",
              "    <div class=\"colab-df-container\">\n",
              "      <div>\n",
              "<style scoped>\n",
              "    .dataframe tbody tr th:only-of-type {\n",
              "        vertical-align: middle;\n",
              "    }\n",
              "\n",
              "    .dataframe tbody tr th {\n",
              "        vertical-align: top;\n",
              "    }\n",
              "\n",
              "    .dataframe thead th {\n",
              "        text-align: right;\n",
              "    }\n",
              "</style>\n",
              "<table border=\"1\" class=\"dataframe\">\n",
              "  <thead>\n",
              "    <tr style=\"text-align: right;\">\n",
              "      <th></th>\n",
              "      <th>27. If things continue on their present course, we will soon experience a major environmental crisis/catastrophe (NEP 15)</th>\n",
              "      <th>10. Did you do any environmental related course (where common environmental problems were discussed) at the University?</th>\n",
              "    </tr>\n",
              "  </thead>\n",
              "  <tbody>\n",
              "    <tr>\n",
              "      <th>27. If things continue on their present course, we will soon experience a major environmental crisis/catastrophe (NEP 15)</th>\n",
              "      <td>1.000000</td>\n",
              "      <td>-0.044023</td>\n",
              "    </tr>\n",
              "    <tr>\n",
              "      <th>10. Did you do any environmental related course (where common environmental problems were discussed) at the University?</th>\n",
              "      <td>-0.044023</td>\n",
              "      <td>1.000000</td>\n",
              "    </tr>\n",
              "  </tbody>\n",
              "</table>\n",
              "</div>\n",
              "      <button class=\"colab-df-convert\" onclick=\"convertToInteractive('df-26adc272-ab65-4b81-bb7e-ddf6faa948a6')\"\n",
              "              title=\"Convert this dataframe to an interactive table.\"\n",
              "              style=\"display:none;\">\n",
              "        \n",
              "  <svg xmlns=\"http://www.w3.org/2000/svg\" height=\"24px\"viewBox=\"0 0 24 24\"\n",
              "       width=\"24px\">\n",
              "    <path d=\"M0 0h24v24H0V0z\" fill=\"none\"/>\n",
              "    <path d=\"M18.56 5.44l.94 2.06.94-2.06 2.06-.94-2.06-.94-.94-2.06-.94 2.06-2.06.94zm-11 1L8.5 8.5l.94-2.06 2.06-.94-2.06-.94L8.5 2.5l-.94 2.06-2.06.94zm10 10l.94 2.06.94-2.06 2.06-.94-2.06-.94-.94-2.06-.94 2.06-2.06.94z\"/><path d=\"M17.41 7.96l-1.37-1.37c-.4-.4-.92-.59-1.43-.59-.52 0-1.04.2-1.43.59L10.3 9.45l-7.72 7.72c-.78.78-.78 2.05 0 2.83L4 21.41c.39.39.9.59 1.41.59.51 0 1.02-.2 1.41-.59l7.78-7.78 2.81-2.81c.8-.78.8-2.07 0-2.86zM5.41 20L4 18.59l7.72-7.72 1.47 1.35L5.41 20z\"/>\n",
              "  </svg>\n",
              "      </button>\n",
              "      \n",
              "  <style>\n",
              "    .colab-df-container {\n",
              "      display:flex;\n",
              "      flex-wrap:wrap;\n",
              "      gap: 12px;\n",
              "    }\n",
              "\n",
              "    .colab-df-convert {\n",
              "      background-color: #E8F0FE;\n",
              "      border: none;\n",
              "      border-radius: 50%;\n",
              "      cursor: pointer;\n",
              "      display: none;\n",
              "      fill: #1967D2;\n",
              "      height: 32px;\n",
              "      padding: 0 0 0 0;\n",
              "      width: 32px;\n",
              "    }\n",
              "\n",
              "    .colab-df-convert:hover {\n",
              "      background-color: #E2EBFA;\n",
              "      box-shadow: 0px 1px 2px rgba(60, 64, 67, 0.3), 0px 1px 3px 1px rgba(60, 64, 67, 0.15);\n",
              "      fill: #174EA6;\n",
              "    }\n",
              "\n",
              "    [theme=dark] .colab-df-convert {\n",
              "      background-color: #3B4455;\n",
              "      fill: #D2E3FC;\n",
              "    }\n",
              "\n",
              "    [theme=dark] .colab-df-convert:hover {\n",
              "      background-color: #434B5C;\n",
              "      box-shadow: 0px 1px 3px 1px rgba(0, 0, 0, 0.15);\n",
              "      filter: drop-shadow(0px 1px 2px rgba(0, 0, 0, 0.3));\n",
              "      fill: #FFFFFF;\n",
              "    }\n",
              "  </style>\n",
              "\n",
              "      <script>\n",
              "        const buttonEl =\n",
              "          document.querySelector('#df-26adc272-ab65-4b81-bb7e-ddf6faa948a6 button.colab-df-convert');\n",
              "        buttonEl.style.display =\n",
              "          google.colab.kernel.accessAllowed ? 'block' : 'none';\n",
              "\n",
              "        async function convertToInteractive(key) {\n",
              "          const element = document.querySelector('#df-26adc272-ab65-4b81-bb7e-ddf6faa948a6');\n",
              "          const dataTable =\n",
              "            await google.colab.kernel.invokeFunction('convertToInteractive',\n",
              "                                                     [key], {});\n",
              "          if (!dataTable) return;\n",
              "\n",
              "          const docLinkHtml = 'Like what you see? Visit the ' +\n",
              "            '<a target=\"_blank\" href=https://colab.research.google.com/notebooks/data_table.ipynb>data table notebook</a>'\n",
              "            + ' to learn more about interactive tables.';\n",
              "          element.innerHTML = '';\n",
              "          dataTable['output_type'] = 'display_data';\n",
              "          await google.colab.output.renderOutput(dataTable, element);\n",
              "          const docLink = document.createElement('div');\n",
              "          docLink.innerHTML = docLinkHtml;\n",
              "          element.appendChild(docLink);\n",
              "        }\n",
              "      </script>\n",
              "    </div>\n",
              "  </div>\n",
              "  "
            ]
          },
          "metadata": {},
          "execution_count": 12
        }
      ]
    },
    {
      "cell_type": "code",
      "source": [
        "sns.heatmap(c.corr())"
      ],
      "metadata": {
        "colab": {
          "base_uri": "https://localhost:8080/",
          "height": 908
        },
        "id": "iiyWcwHL3ug9",
        "outputId": "43326469-dff3-4ae6-8c0c-0a36b09750bb"
      },
      "execution_count": null,
      "outputs": [
        {
          "output_type": "execute_result",
          "data": {
            "text/plain": [
              "<matplotlib.axes._subplots.AxesSubplot at 0x7fe43cbb8910>"
            ]
          },
          "metadata": {},
          "execution_count": 13
        },
        {
          "output_type": "display_data",
          "data": {
            "text/plain": [
              "<Figure size 432x288 with 2 Axes>"
            ],
            "image/png": "[encoded data removed]"
          },
          "metadata": {
            "needs_background": "light"
          }
        }
      ]
    },
    {
      "cell_type": "code",
      "source": [
        ""
      ],
      "metadata": {
        "id": "s_zHYUmU5erW"
      },
      "execution_count": null,
      "outputs": []
    },
    {
      "cell_type": "markdown",
      "source": [
        "#Research Question-2:"
      ],
      "metadata": {
        "id": "SU94sVVm6O8s"
      }
    },
    {
      "cell_type": "code",
      "source": [
        "a = df.iloc[:,25]\n",
        "print(a)"
      ],
      "metadata": {
        "colab": {
          "base_uri": "https://localhost:8080/"
        },
        "id": "7dh8EB9t6RFh",
        "outputId": "2e676700-efb2-4a3a-840d-c1d689d466df"
      },
      "execution_count": null,
      "outputs": [
        {
          "output_type": "stream",
          "name": "stdout",
          "text": [
            "0     Strongly Disagree\n",
            "1               Neutral\n",
            "2     Strongly Disagree\n",
            "3              Disagree\n",
            "4              Disagree\n",
            "5                 Agree\n",
            "6     Strongly Disagree\n",
            "7        Strongly agree\n",
            "8              Disagree\n",
            "9                 Agree\n",
            "10             Disagree\n",
            "11             Disagree\n",
            "12    Strongly Disagree\n",
            "13                Agree\n",
            "14              Neutral\n",
            "15             Disagree\n",
            "16             Disagree\n",
            "17              Neutral\n",
            "18              Neutral\n",
            "19             Disagree\n",
            "20    Strongly Disagree\n",
            "21    Strongly Disagree\n",
            "22    Strongly Disagree\n",
            "23             Disagree\n",
            "24                Agree\n",
            "Name: 22. The current environmental crises are not serious issues and sometimes over rated/ emphasized  (NEP 10), dtype: object\n"
          ]
        }
      ]
    },
    {
      "cell_type": "code",
      "source": [
        "a = a.replace(to_replace='Strongly agree',value=10)\n",
        "a = a.replace(to_replace='Agree',value=8)\n",
        "a = a.replace(to_replace='Neutral',value=6)\n",
        "a = a.replace(to_replace='Disagree',value=4)\n",
        "a = a.replace(to_replace='Strongly Disagree',value=2)\n",
        "a"
      ],
      "metadata": {
        "colab": {
          "base_uri": "https://localhost:8080/"
        },
        "id": "hmYJ66hQ6Ysy",
        "outputId": "1a647e3d-7085-417b-fb43-0fed8123d646"
      },
      "execution_count": null,
      "outputs": [
        {
          "output_type": "execute_result",
          "data": {
            "text/plain": [
              "0      2\n",
              "1      6\n",
              "2      2\n",
              "3      4\n",
              "4      4\n",
              "5      8\n",
              "6      2\n",
              "7     10\n",
              "8      4\n",
              "9      8\n",
              "10     4\n",
              "11     4\n",
              "12     2\n",
              "13     8\n",
              "14     6\n",
              "15     4\n",
              "16     4\n",
              "17     6\n",
              "18     6\n",
              "19     4\n",
              "20     2\n",
              "21     2\n",
              "22     2\n",
              "23     4\n",
              "24     8\n",
              "Name: 22. The current environmental crises are not serious issues and sometimes over rated/ emphasized  (NEP 10), dtype: int64"
            ]
          },
          "metadata": {},
          "execution_count": 23
        }
      ]
    },
    {
      "cell_type": "code",
      "source": [
        "b = df.iloc[:,3]\n",
        "print(b)"
      ],
      "metadata": {
        "colab": {
          "base_uri": "https://localhost:8080/"
        },
        "id": "wMvuCk8967wh",
        "outputId": "e92d4a64-bbc4-46f1-b45f-615aabc31d00"
      },
      "execution_count": null,
      "outputs": [
        {
          "output_type": "stream",
          "name": "stdout",
          "text": [
            "0         Urban\n",
            "1         Urban\n",
            "2         Urban\n",
            "3         Rural\n",
            "4     Sub-urban\n",
            "5     Sub-urban\n",
            "6         Urban\n",
            "7         Urban\n",
            "8         Urban\n",
            "9         Urban\n",
            "10        Urban\n",
            "11        Urban\n",
            "12        Urban\n",
            "13        Urban\n",
            "14        Rural\n",
            "15        Urban\n",
            "16        Urban\n",
            "17    Sub-urban\n",
            "18        Rural\n",
            "19    Sub-urban\n",
            "20    Sub-urban\n",
            "21        Urban\n",
            "22        Urban\n",
            "23    Sub-urban\n",
            "24        Urban\n",
            "Name: 2. Your place of residence?, dtype: object\n"
          ]
        }
      ]
    },
    {
      "cell_type": "code",
      "source": [
        "b = b.replace(to_replace='Urban',value=9) #town\n",
        "b = b.replace(to_replace='Sub-urban',value=6)\n",
        "b = b.replace(to_replace='Rural',value=3)\n",
        "b"
      ],
      "metadata": {
        "colab": {
          "base_uri": "https://localhost:8080/"
        },
        "id": "TXN82B557Uzv",
        "outputId": "0168b9dd-4d34-4258-eee8-e524bef3818c"
      },
      "execution_count": null,
      "outputs": [
        {
          "output_type": "execute_result",
          "data": {
            "text/plain": [
              "0     9\n",
              "1     9\n",
              "2     9\n",
              "3     3\n",
              "4     6\n",
              "5     6\n",
              "6     9\n",
              "7     9\n",
              "8     9\n",
              "9     9\n",
              "10    9\n",
              "11    9\n",
              "12    9\n",
              "13    9\n",
              "14    3\n",
              "15    9\n",
              "16    9\n",
              "17    6\n",
              "18    3\n",
              "19    6\n",
              "20    6\n",
              "21    9\n",
              "22    9\n",
              "23    6\n",
              "24    9\n",
              "Name: 2. Your place of residence?, dtype: int64"
            ]
          },
          "metadata": {},
          "execution_count": 39
        }
      ]
    },
    {
      "cell_type": "code",
      "source": [
        "c = pd.concat([b, a], axis=1)\n",
        "\n",
        "print(c.shape)"
      ],
      "metadata": {
        "colab": {
          "base_uri": "https://localhost:8080/"
        },
        "id": "KLH7ImFR76y3",
        "outputId": "8841dec4-d171-44f6-d532-8109e7a0f2ac"
      },
      "execution_count": null,
      "outputs": [
        {
          "output_type": "stream",
          "name": "stdout",
          "text": [
            "(25, 2)\n"
          ]
        }
      ]
    },
    {
      "cell_type": "code",
      "source": [
        ""
      ],
      "metadata": {
        "colab": {
          "base_uri": "https://localhost:8080/"
        },
        "id": "5oOF_Tyt8BO4",
        "outputId": "f18bba5c-26f8-46c1-f048-9b4a5f1c00c9"
      },
      "execution_count": null,
      "outputs": [
        {
          "output_type": "stream",
          "name": "stdout",
          "text": [
            "0    NaN\n",
            "1    NaN\n",
            "2    NaN\n",
            "3    NaN\n",
            "4    NaN\n",
            "5    NaN\n",
            "6    NaN\n",
            "7    NaN\n",
            "8    NaN\n",
            "9    NaN\n",
            "10   NaN\n",
            "11   NaN\n",
            "12   NaN\n",
            "13   NaN\n",
            "14   NaN\n",
            "15   NaN\n",
            "16   NaN\n",
            "17   NaN\n",
            "18   NaN\n",
            "19   NaN\n",
            "20   NaN\n",
            "21   NaN\n",
            "22   NaN\n",
            "23   NaN\n",
            "24   NaN\n",
            "dtype: float64\n"
          ]
        }
      ]
    },
    {
      "cell_type": "code",
      "source": [
        "c.corr()"
      ],
      "metadata": {
        "colab": {
          "base_uri": "https://localhost:8080/"
        },
        "id": "kr9FLCal8Ee9",
        "outputId": "6c996074-f454-45c8-c889-8f8a9c013262"
      },
      "execution_count": null,
      "outputs": [
        {
          "output_type": "execute_result",
          "data": {
            "text/plain": [
              "                                                    2. Your place of residence?  \\\n",
              "2. Your place of residence?                                            1.000000   \n",
              "22. The current environmental crises are not se...                    -0.106765   \n",
              "\n",
              "                                                    22. The current environmental crises are not serious issues and sometimes over rated/ emphasized  (NEP 10)  \n",
              "2. Your place of residence?                                                                 -0.106765                                                           \n",
              "22. The current environmental crises are not se...                                           1.000000                                                           "
            ],
            "text/html": [
              "\n",
              "  <div id=\"df-4583cba1-3398-4ab7-91f5-64d073af495c\">\n",
              "    <div class=\"colab-df-container\">\n",
              "      <div>\n",
              "<style scoped>\n",
              "    .dataframe tbody tr th:only-of-type {\n",
              "        vertical-align: middle;\n",
              "    }\n",
              "\n",
              "    .dataframe tbody tr th {\n",
              "        vertical-align: top;\n",
              "    }\n",
              "\n",
              "    .dataframe thead th {\n",
              "        text-align: right;\n",
              "    }\n",
              "</style>\n",
              "<table border=\"1\" class=\"dataframe\">\n",
              "  <thead>\n",
              "    <tr style=\"text-align: right;\">\n",
              "      <th></th>\n",
              "      <th>2. Your place of residence?</th>\n",
              "      <th>22. The current environmental crises are not serious issues and sometimes over rated/ emphasized  (NEP 10)</th>\n",
              "    </tr>\n",
              "  </thead>\n",
              "  <tbody>\n",
              "    <tr>\n",
              "      <th>2. Your place of residence?</th>\n",
              "      <td>1.000000</td>\n",
              "      <td>-0.106765</td>\n",
              "    </tr>\n",
              "    <tr>\n",
              "      <th>22. The current environmental crises are not serious issues and sometimes over rated/ emphasized  (NEP 10)</th>\n",
              "      <td>-0.106765</td>\n",
              "      <td>1.000000</td>\n",
              "    </tr>\n",
              "  </tbody>\n",
              "</table>\n",
              "</div>\n",
              "      <button class=\"colab-df-convert\" onclick=\"convertToInteractive('df-4583cba1-3398-4ab7-91f5-64d073af495c')\"\n",
              "              title=\"Convert this dataframe to an interactive table.\"\n",
              "              style=\"display:none;\">\n",
              "        \n",
              "  <svg xmlns=\"http://www.w3.org/2000/svg\" height=\"24px\"viewBox=\"0 0 24 24\"\n",
              "       width=\"24px\">\n",
              "    <path d=\"M0 0h24v24H0V0z\" fill=\"none\"/>\n",
              "    <path d=\"M18.56 5.44l.94 2.06.94-2.06 2.06-.94-2.06-.94-.94-2.06-.94 2.06-2.06.94zm-11 1L8.5 8.5l.94-2.06 2.06-.94-2.06-.94L8.5 2.5l-.94 2.06-2.06.94zm10 10l.94 2.06.94-2.06 2.06-.94-2.06-.94-.94-2.06-.94 2.06-2.06.94z\"/><path d=\"M17.41 7.96l-1.37-1.37c-.4-.4-.92-.59-1.43-.59-.52 0-1.04.2-1.43.59L10.3 9.45l-7.72 7.72c-.78.78-.78 2.05 0 2.83L4 21.41c.39.39.9.59 1.41.59.51 0 1.02-.2 1.41-.59l7.78-7.78 2.81-2.81c.8-.78.8-2.07 0-2.86zM5.41 20L4 18.59l7.72-7.72 1.47 1.35L5.41 20z\"/>\n",
              "  </svg>\n",
              "      </button>\n",
              "      \n",
              "  <style>\n",
              "    .colab-df-container {\n",
              "      display:flex;\n",
              "      flex-wrap:wrap;\n",
              "      gap: 12px;\n",
              "    }\n",
              "\n",
              "    .colab-df-convert {\n",
              "      background-color: #E8F0FE;\n",
              "      border: none;\n",
              "      border-radius: 50%;\n",
              "      cursor: pointer;\n",
              "      display: none;\n",
              "      fill: #1967D2;\n",
              "      height: 32px;\n",
              "      padding: 0 0 0 0;\n",
              "      width: 32px;\n",
              "    }\n",
              "\n",
              "    .colab-df-convert:hover {\n",
              "      background-color: #E2EBFA;\n",
              "      box-shadow: 0px 1px 2px rgba(60, 64, 67, 0.3), 0px 1px 3px 1px rgba(60, 64, 67, 0.15);\n",
              "      fill: #174EA6;\n",
              "    }\n",
              "\n",
              "    [theme=dark] .colab-df-convert {\n",
              "      background-color: #3B4455;\n",
              "      fill: #D2E3FC;\n",
              "    }\n",
              "\n",
              "    [theme=dark] .colab-df-convert:hover {\n",
              "      background-color: #434B5C;\n",
              "      box-shadow: 0px 1px 3px 1px rgba(0, 0, 0, 0.15);\n",
              "      filter: drop-shadow(0px 1px 2px rgba(0, 0, 0, 0.3));\n",
              "      fill: #FFFFFF;\n",
              "    }\n",
              "  </style>\n",
              "\n",
              "      <script>\n",
              "        const buttonEl =\n",
              "          document.querySelector('#df-4583cba1-3398-4ab7-91f5-64d073af495c button.colab-df-convert');\n",
              "        buttonEl.style.display =\n",
              "          google.colab.kernel.accessAllowed ? 'block' : 'none';\n",
              "\n",
              "        async function convertToInteractive(key) {\n",
              "          const element = document.querySelector('#df-4583cba1-3398-4ab7-91f5-64d073af495c');\n",
              "          const dataTable =\n",
              "            await google.colab.kernel.invokeFunction('convertToInteractive',\n",
              "                                                     [key], {});\n",
              "          if (!dataTable) return;\n",
              "\n",
              "          const docLinkHtml = 'Like what you see? Visit the ' +\n",
              "            '<a target=\"_blank\" href=https://colab.research.google.com/notebooks/data_table.ipynb>data table notebook</a>'\n",
              "            + ' to learn more about interactive tables.';\n",
              "          element.innerHTML = '';\n",
              "          dataTable['output_type'] = 'display_data';\n",
              "          await google.colab.output.renderOutput(dataTable, element);\n",
              "          const docLink = document.createElement('div');\n",
              "          docLink.innerHTML = docLinkHtml;\n",
              "          element.appendChild(docLink);\n",
              "        }\n",
              "      </script>\n",
              "    </div>\n",
              "  </div>\n",
              "  "
            ]
          },
          "metadata": {},
          "execution_count": 45
        }
      ]
    },
    {
      "cell_type": "code",
      "source": [
        "sns.heatmap(c.corr())"
      ],
      "metadata": {
        "colab": {
          "base_uri": "https://localhost:8080/"
        },
        "id": "3azOyeSu8MVK",
        "outputId": "278002e2-4536-47e5-f8bd-baab1056670c"
      },
      "execution_count": null,
      "outputs": [
        {
          "output_type": "execute_result",
          "data": {
            "text/plain": [
              "<matplotlib.axes._subplots.AxesSubplot at 0x7fe437ec4190>"
            ]
          },
          "metadata": {},
          "execution_count": 46
        },
        {
          "output_type": "display_data",
          "data": {
            "text/plain": [
              "<Figure size 432x288 with 2 Axes>"
            ],
            "image/png": "[encoded data removed]"
          },
          "metadata": {
            "needs_background": "light"
          }
        }
      ]
    },
    {
      "cell_type": "code",
      "source": [
        ""
      ],
      "metadata": {
        "id": "KUHDK-qF8Zit"
      },
      "execution_count": null,
      "outputs": []
    }
  ]
}